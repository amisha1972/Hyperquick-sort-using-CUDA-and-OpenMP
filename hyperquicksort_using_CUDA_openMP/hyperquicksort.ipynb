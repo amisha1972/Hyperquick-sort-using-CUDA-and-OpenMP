{
  "nbformat": 4,
  "nbformat_minor": 0,
  "metadata": {
    "colab": {
      "provenance": [],
      "gpuType": "T4"
    },
    "kernelspec": {
      "name": "python3",
      "display_name": "Python 3"
    },
    "language_info": {
      "name": "python"
    },
    "accelerator": "GPU"
  },
  "cells": [
    {
      "cell_type": "code",
      "execution_count": 1,
      "metadata": {
        "colab": {
          "base_uri": "https://localhost:8080/"
        },
        "id": "Jkb3BnjGCdP5",
        "outputId": "791a38d6-0d32-42bf-a172-c25ad9611d7a"
      },
      "outputs": [
        {
          "output_type": "stream",
          "name": "stdout",
          "text": [
            "--2023-05-28 11:15:07--  https://developer.nvidia.com/compute/cuda/9.2/Prod/local_installers/cuda-repo-ubuntu1604-9-2-local_9.2.88-1_amd64\n",
            "Resolving developer.nvidia.com (developer.nvidia.com)... 152.195.19.142\n",
            "Connecting to developer.nvidia.com (developer.nvidia.com)|152.195.19.142|:443... connected.\n",
            "HTTP request sent, awaiting response... 301 Moved Permanently\n",
            "Location: https://developer.nvidia.com/downloads/compute/cuda/9.2/Prod/local_installers/cuda-repo-ubuntu1604-9-2-local_9.2.88-1_amd64 [following]\n",
            "--2023-05-28 11:15:07--  https://developer.nvidia.com/downloads/compute/cuda/9.2/Prod/local_installers/cuda-repo-ubuntu1604-9-2-local_9.2.88-1_amd64\n",
            "Reusing existing connection to developer.nvidia.com:443.\n",
            "HTTP request sent, awaiting response... 302 Found\n",
            "Location: https://developer.download.nvidia.com/compute/cuda/9.2/secure/Prod/local_installers/cuda-repo-ubuntu1604-9-2-local_9.2.88-1_amd64.deb?ytleT_IvJDBrFFaUp9cAYpyXStS0AmMz5GkSrWiIMgxXiBN1EnDD8XIotFdWys-eoSUR3zV-392Mhz9-vVvfN7ISFWihXX7MqPs9eBVnTkS6k5-up_kdV47rC-zPVdL9UzTNPDpnovcYfjI59wgE2dQDm3V8z3k85YqM-2jh28Ebtucgb56SoVmVpeEbt5mJLvSLa9iVMK2J6dFxpaE= [following]\n",
            "--2023-05-28 11:15:08--  https://developer.download.nvidia.com/compute/cuda/9.2/secure/Prod/local_installers/cuda-repo-ubuntu1604-9-2-local_9.2.88-1_amd64.deb?ytleT_IvJDBrFFaUp9cAYpyXStS0AmMz5GkSrWiIMgxXiBN1EnDD8XIotFdWys-eoSUR3zV-392Mhz9-vVvfN7ISFWihXX7MqPs9eBVnTkS6k5-up_kdV47rC-zPVdL9UzTNPDpnovcYfjI59wgE2dQDm3V8z3k85YqM-2jh28Ebtucgb56SoVmVpeEbt5mJLvSLa9iVMK2J6dFxpaE=\n",
            "Resolving developer.download.nvidia.com (developer.download.nvidia.com)... 152.195.19.142\n",
            "Connecting to developer.download.nvidia.com (developer.download.nvidia.com)|152.195.19.142|:443... connected.\n",
            "HTTP request sent, awaiting response... 200 OK\n",
            "Length: 1267391958 (1.2G) [application/x-deb]\n",
            "Saving to: ‘cuda-repo-ubuntu1604-9-2-local_9.2.88-1_amd64.deb’\n",
            "\n",
            "cuda-repo-ubuntu160 100%[===================>]   1.18G   261MB/s    in 5.2s    \n",
            "\n",
            "2023-05-28 11:15:13 (231 MB/s) - ‘cuda-repo-ubuntu1604-9-2-local_9.2.88-1_amd64.deb’ saved [1267391958/1267391958]\n",
            "\n",
            "Selecting previously unselected package cuda-repo-ubuntu1604-9-2-local.\n",
            "(Reading database ... 122545 files and directories currently installed.)\n",
            "Preparing to unpack cuda-repo-ubuntu1604-9-2-local_9.2.88-1_amd64.deb ...\n",
            "Unpacking cuda-repo-ubuntu1604-9-2-local (9.2.88-1) ...\n",
            "Setting up cuda-repo-ubuntu1604-9-2-local (9.2.88-1) ...\n",
            "\n",
            "The public CUDA GPG key does not appear to be installed.\n",
            "To install the key, run this command:\n",
            "sudo apt-key add /var/cuda-repo-9-2-local/7fa2af80.pub\n",
            "\n",
            "OK\n",
            "Get:1 file:/var/cuda-repo-9-2-local  InRelease\n",
            "Ign:1 file:/var/cuda-repo-9-2-local  InRelease\n",
            "Get:2 file:/var/cuda-repo-9-2-local  Release [574 B]\n",
            "Get:2 file:/var/cuda-repo-9-2-local  Release [574 B]\n",
            "Get:3 file:/var/cuda-repo-9-2-local  Release.gpg [819 B]\n",
            "Get:3 file:/var/cuda-repo-9-2-local  Release.gpg [819 B]\n",
            "Get:4 https://cloud.r-project.org/bin/linux/ubuntu focal-cran40/ InRelease [3,622 B]\n",
            "Hit:5 https://developer.download.nvidia.com/compute/cuda/repos/ubuntu2004/x86_64  InRelease\n",
            "Get:6 file:/var/cuda-repo-9-2-local  Packages [18.7 kB]\n",
            "Hit:7 http://archive.ubuntu.com/ubuntu focal InRelease\n",
            "Get:8 http://archive.ubuntu.com/ubuntu focal-updates InRelease [114 kB]\n",
            "Get:9 http://security.ubuntu.com/ubuntu focal-security InRelease [114 kB]\n",
            "Get:10 http://ppa.launchpad.net/c2d4u.team/c2d4u4.0+/ubuntu focal InRelease [18.1 kB]\n",
            "Get:11 http://archive.ubuntu.com/ubuntu focal-backports InRelease [108 kB]\n",
            "Get:12 http://archive.ubuntu.com/ubuntu focal-updates/universe amd64 Packages [1,346 kB]\n",
            "Hit:13 http://ppa.launchpad.net/cran/libgit2/ubuntu focal InRelease\n",
            "Get:14 http://archive.ubuntu.com/ubuntu focal-updates/main amd64 Packages [3,202 kB]\n",
            "Hit:15 http://ppa.launchpad.net/deadsnakes/ppa/ubuntu focal InRelease\n",
            "Get:16 http://security.ubuntu.com/ubuntu focal-security/universe amd64 Packages [1,051 kB]\n",
            "Hit:17 http://ppa.launchpad.net/graphics-drivers/ppa/ubuntu focal InRelease\n",
            "Hit:18 http://ppa.launchpad.net/ubuntugis/ppa/ubuntu focal InRelease\n",
            "Get:19 http://ppa.launchpad.net/c2d4u.team/c2d4u4.0+/ubuntu focal/main Sources [2,581 kB]\n",
            "Get:20 http://ppa.launchpad.net/c2d4u.team/c2d4u4.0+/ubuntu focal/main amd64 Packages [1,218 kB]\n",
            "Fetched 9,755 kB in 4s (2,471 kB/s)\n",
            "Reading package lists... Done\n",
            "Reading package lists... Done\n",
            "Building dependency tree       \n",
            "Reading state information... Done\n",
            "Note, selecting 'libcuda-9.0-1' for regex 'cuda-9.0'\n",
            "0 upgraded, 0 newly installed, 0 to remove and 34 not upgraded.\n"
          ]
        }
      ],
      "source": [
        "!wget https://developer.nvidia.com/compute/cuda/9.2/Prod/local_installers/cuda-repo-ubuntu1604-9-2-local_9.2.88-1_amd64 -O cuda-repo-ubuntu1604-9-2-local_9.2.88-1_amd64.deb\n",
        "!dpkg -i cuda-repo-ubuntu1604-9-2-local_9.2.88-1_amd64.deb\n",
        "!apt-key add /var/cuda-repo-9-2-local/7fa2af80.pub\n",
        "!apt-get update\n",
        "!apt-get install cuda-9.0"
      ]
    },
    {
      "cell_type": "code",
      "source": [
        "!nvcc --version"
      ],
      "metadata": {
        "colab": {
          "base_uri": "https://localhost:8080/"
        },
        "id": "9etYiqYpECpS",
        "outputId": "4ad395fa-68d7-4569-d435-25cf3a2f2010"
      },
      "execution_count": 2,
      "outputs": [
        {
          "output_type": "stream",
          "name": "stdout",
          "text": [
            "nvcc: NVIDIA (R) Cuda compiler driver\n",
            "Copyright (c) 2005-2022 NVIDIA Corporation\n",
            "Built on Wed_Sep_21_10:33:58_PDT_2022\n",
            "Cuda compilation tools, release 11.8, V11.8.89\n",
            "Build cuda_11.8.r11.8/compiler.31833905_0\n"
          ]
        }
      ]
    },
    {
      "cell_type": "code",
      "source": [
        "!pip install git+https://github.com/andreinechaev/nvcc4jupyter.git"
      ],
      "metadata": {
        "colab": {
          "base_uri": "https://localhost:8080/"
        },
        "id": "JXFC1rckETUi",
        "outputId": "08a31694-db8d-4145-f94c-1e0154866d28"
      },
      "execution_count": 3,
      "outputs": [
        {
          "output_type": "stream",
          "name": "stdout",
          "text": [
            "Looking in indexes: https://pypi.org/simple, https://us-python.pkg.dev/colab-wheels/public/simple/\n",
            "Collecting git+https://github.com/andreinechaev/nvcc4jupyter.git\n",
            "  Cloning https://github.com/andreinechaev/nvcc4jupyter.git to /tmp/pip-req-build-s155_0qx\n",
            "  Running command git clone --filter=blob:none --quiet https://github.com/andreinechaev/nvcc4jupyter.git /tmp/pip-req-build-s155_0qx\n",
            "  Resolved https://github.com/andreinechaev/nvcc4jupyter.git to commit aac710a35f52bb78ab34d2e52517237941399eff\n",
            "  Preparing metadata (setup.py) ... \u001b[?25l\u001b[?25hdone\n",
            "Building wheels for collected packages: NVCCPlugin\n",
            "  Building wheel for NVCCPlugin (setup.py) ... \u001b[?25l\u001b[?25hdone\n",
            "  Created wheel for NVCCPlugin: filename=NVCCPlugin-0.0.2-py3-none-any.whl size=4287 sha256=a040a1c3a880046bb383e3fee8b3df7187edba81a4243fdb7ada319c9b32a4ce\n",
            "  Stored in directory: /tmp/pip-ephem-wheel-cache-d_rjkkrs/wheels/a8/b9/18/23f8ef71ceb0f63297dd1903aedd067e6243a68ea756d6feea\n",
            "Successfully built NVCCPlugin\n",
            "Installing collected packages: NVCCPlugin\n",
            "Successfully installed NVCCPlugin-0.0.2\n"
          ]
        }
      ]
    },
    {
      "cell_type": "code",
      "source": [
        "%load_ext nvcc_plugin"
      ],
      "metadata": {
        "colab": {
          "base_uri": "https://localhost:8080/"
        },
        "id": "fOxDkbsJEZGy",
        "outputId": "91fb8066-c0b9-477f-9f3a-e944235f3f51"
      },
      "execution_count": 4,
      "outputs": [
        {
          "output_type": "stream",
          "name": "stdout",
          "text": [
            "created output directory at /content/src\n",
            "Out bin /content/result.out\n"
          ]
        }
      ]
    },
    {
      "cell_type": "code",
      "source": [
        "%%cu\n",
        "#include<stdio.h>\n",
        "#include <cuda.h>\n",
        "#include <cuda_runtime.h>\n",
        "\n",
        " __global__ static void quicksort(int* values,int N) {\n",
        " #define MAX_LEVELS 300\n",
        "\n",
        " int pivot, L, R;\n",
        " int idx =  threadIdx.x + blockIdx.x * blockDim.x;\n",
        " int start[MAX_LEVELS];\n",
        " int end[MAX_LEVELS];\n",
        "\n",
        " start[idx] = idx;\n",
        " end[idx] = N - 1;\n",
        " while (idx >= 0) {\n",
        "  L = start[idx];\n",
        "  R = end[idx];\n",
        "  if (L < R) {\n",
        "   pivot = values[L];\n",
        "   while (L < R) {\n",
        "    while (values[R] >= pivot && L < R)\n",
        "     R--;\n",
        "    if(L < R)\n",
        "     values[L++] = values[R];\n",
        "    while (values[L] < pivot && L < R)\n",
        "     L++;\n",
        "    if (L < R)\n",
        "     values[R--] = values[L];\n",
        "   }\n",
        "   values[L] = pivot;\n",
        "   start[idx + 1] = L + 1;\n",
        "   end[idx + 1] = end[idx];\n",
        "   end[idx++] = L;\n",
        "   if (end[idx] - start[idx] > end[idx - 1] - start[idx - 1]) {\n",
        "                         // swap start[idx] and start[idx-1]\n",
        "                         int tmp = start[idx];\n",
        "                         start[idx] = start[idx - 1];\n",
        "                         start[idx - 1] = tmp;\n",
        "\n",
        "                         // swap end[idx] and end[idx-1]\n",
        "                         tmp = end[idx];\n",
        "                         end[idx] = end[idx - 1];\n",
        "                         end[idx - 1] = tmp;\n",
        "                 }\n",
        "\n",
        "  }\n",
        "  else\n",
        "   idx--;\n",
        " }\n",
        "}\n",
        "\n",
        "\n",
        "int main(){\n",
        "  int x[20],size,i;\n",
        "  int *d_x,*d_size,*d_i;\n",
        "\n",
        "\n",
        "\n",
        "\n",
        "\n",
        "  printf(\"Enter size of the array: \");\n",
        "  scanf(\"%d\",&size);\n",
        "\n",
        "  printf(\"Enter %d elements: \",size);\n",
        "  for(i=0;i<size;i++)\n",
        "    scanf(\"%d\",&x[i]);\n",
        "  cudaMalloc((void **)&d_x,sizeof(int)*size);\n",
        "    cudaMalloc((void **)&d_size,sizeof(int));\n",
        "    cudaMalloc((void **)&d_i,sizeof(int));\n",
        "\n",
        "  cudaMemcpy(d_x, &x,  sizeof( int)*size, cudaMemcpyHostToDevice);\n",
        "  cudaMemcpy(d_size, &size,  sizeof( int), cudaMemcpyHostToDevice);\n",
        "  cudaMemcpy(d_i, &i,  sizeof( int), cudaMemcpyHostToDevice);\n",
        "\n",
        "  quicksort<<<1,1>>>(d_x,size);\n",
        "  cudaMemcpy(x, d_x, sizeof(int)*size, cudaMemcpyDeviceToHost);\n",
        "  printf(\"Sorted elements: \");\n",
        "  for(i=0;i<size;i++)\n",
        "    printf(\" %d\",x[i]);\n",
        "\n",
        "  return 0;\n",
        "}\n"
      ],
      "metadata": {
        "colab": {
          "base_uri": "https://localhost:8080/"
        },
        "id": "LSw0JoZ6zgor",
        "outputId": "4b04f232-59cb-4d47-d2a7-4079045299fd"
      },
      "execution_count": 6,
      "outputs": [
        {
          "output_type": "stream",
          "name": "stdout",
          "text": [
            "Enter size of the array: Enter -1350720866 elements: Sorted elements: \n"
          ]
        }
      ]
    }
  ]
}